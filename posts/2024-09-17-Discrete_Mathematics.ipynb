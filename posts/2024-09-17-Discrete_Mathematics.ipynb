{
 "cells": [
  {
   "cell_type": "markdown",
   "metadata": {},
   "source": [
    "---\n",
    "title: Discrete Mathematics\n",
    "badges: false\n",
    "categories:\n",
    "- Maths\n",
    "date: '2024-09-17'\n",
    "description: Notes on Discrete Mathematics.\n",
    "image: images/paper_image.png\n",
    "output-file: 2024-09-17_Discrete_Mathematics.html\n",
    "toc: true\n",
    "draft: true\n",
    "\n",
    "---\n"
   ]
  },
  {
   "cell_type": "markdown",
   "metadata": {},
   "source": [
    "# Modulo Arithmetics\n",
    "\n",
    "$$\\sum(1+1)$$"
   ]
  },
  {
   "cell_type": "markdown",
   "metadata": {},
   "source": []
  }
 ],
 "metadata": {
  "kernelspec": {
   "display_name": "Python 3",
   "language": "python",
   "name": "python3"
  },
  "language_info": {
   "codemirror_mode": {
    "name": "ipython",
    "version": 3
   },
   "file_extension": ".py",
   "mimetype": "text/x-python",
   "name": "python",
   "nbconvert_exporter": "python",
   "pygments_lexer": "ipython3",
   "version": "3.9.6"
  }
 },
 "nbformat": 4,
 "nbformat_minor": 2
}
